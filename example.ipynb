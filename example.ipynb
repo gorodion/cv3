{
 "cells": [
  {
   "cell_type": "markdown",
   "id": "a791dc39-3fc7-4507-b703-c50f0ef30ec9",
   "metadata": {},
   "source": [
    "## cv2 vs cv3"
   ]
  },
  {
   "cell_type": "markdown",
   "id": "ff4520b7-987e-458b-99d3-6c393cec6058",
   "metadata": {},
   "source": [
    "### Reading/Writing images"
   ]
  },
  {
   "cell_type": "markdown",
   "id": "a2585cc0-28c6-4c1a-8685-aa0bfbc65092",
   "metadata": {},
   "source": [
    "cv2"
   ]
  },
  {
   "cell_type": "code",
   "execution_count": 15,
   "id": "b927606f-b880-408f-8755-da46f1d9b8af",
   "metadata": {
    "tags": []
   },
   "outputs": [
    {
     "name": "stdout",
     "output_type": "stream",
     "text": [
      "3.21 ms ± 129 µs per loop (mean ± std. dev. of 7 runs, 100 loops each)\n"
     ]
    }
   ],
   "source": [
    "%%timeit\n",
    "\n",
    "import cv2 as cv\n",
    "import sys, os\n",
    "\n",
    "img = cv.imread(cv.samples.findFile(\"data/image.jpg\"))\n",
    "if img is None:\n",
    "    sys.exit(\"Could not read the image.\")\n",
    "\n",
    "gray = cv.cvtColor(img, cv.COLOR_BGR2GRAY)\n",
    "\n",
    "os.makedirs('outputs', exist_ok=True)\n",
    "cv.imwrite('outputs/gray.jpg', gray)"
   ]
  },
  {
   "cell_type": "code",
   "execution_count": 16,
   "id": "8bc762fc-7127-4a3c-907d-39258b10667a",
   "metadata": {
    "tags": []
   },
   "outputs": [],
   "source": [
    "import shutil\n",
    "shutil.rmtree('outputs')"
   ]
  },
  {
   "cell_type": "markdown",
   "id": "cfbace47-69b0-4deb-9e7c-2fc84f3d9c72",
   "metadata": {},
   "source": [
    "cv3"
   ]
  },
  {
   "cell_type": "code",
   "execution_count": 17,
   "id": "802fdf88-fdc9-4a6f-ace4-166b496cdc0e",
   "metadata": {
    "tags": []
   },
   "outputs": [
    {
     "name": "stdout",
     "output_type": "stream",
     "text": [
      "3.9 ms ± 76.3 µs per loop (mean ± std. dev. of 7 runs, 100 loops each)\n"
     ]
    }
   ],
   "source": [
    "%%timeit\n",
    "\n",
    "import cv3\n",
    "\n",
    "img = cv3.imread('data/image.jpg')\n",
    "gray = cv3.rgb2gray(img)\n",
    "cv3.imwrite('outputs/gray.jpg', gray, mkdir=True)"
   ]
  },
  {
   "cell_type": "markdown",
   "id": "bf78d6fc-cab6-4307-a5c0-dce695db585f",
   "metadata": {},
   "source": [
    "### Drawing"
   ]
  },
  {
   "cell_type": "markdown",
   "id": "602624dd-1d14-444c-bd5d-b06b6eefd3c7",
   "metadata": {},
   "source": [
    "cv2"
   ]
  },
  {
   "cell_type": "code",
   "execution_count": 18,
   "id": "d40eb8ad-4861-4b5c-ac25-4efb2718660e",
   "metadata": {
    "tags": []
   },
   "outputs": [
    {
     "name": "stdout",
     "output_type": "stream",
     "text": [
      "1.47 ms ± 13 µs per loop (mean ± std. dev. of 7 runs, 1,000 loops each)\n"
     ]
    }
   ],
   "source": [
    "%%timeit\n",
    "\n",
    "import cv2 as cv\n",
    "\n",
    "img = cv.imread(cv.samples.findFile(\"data/image.jpg\"))\n",
    "img = cv.cvtColor(img, cv.COLOR_BGR2RGB)\n",
    "\n",
    "cv.rectangle(img, (40, 30), (260, 220), (0, 0, 255), 3)\n",
    "cv.putText(img, 'Parrot', (50, 25), cv.FONT_HERSHEY_SIMPLEX, 1, (255, 255, 255), 2, cv.LINE_8);"
   ]
  },
  {
   "cell_type": "markdown",
   "id": "60412bf5-d307-4eef-bc73-7b2b481e271f",
   "metadata": {},
   "source": [
    "cv3"
   ]
  },
  {
   "cell_type": "code",
   "execution_count": 19,
   "id": "88c0c896-8116-4840-a20b-b3743fa7f65c",
   "metadata": {
    "tags": []
   },
   "outputs": [
    {
     "name": "stdout",
     "output_type": "stream",
     "text": [
      "1.59 ms ± 16.1 µs per loop (mean ± std. dev. of 7 runs, 1,000 loops each)\n"
     ]
    }
   ],
   "source": [
    "%%timeit\n",
    "\n",
    "import cv3\n",
    "\n",
    "img = cv3.imread('data/image.jpg')\n",
    "\n",
    "cv3.rectangle(img, 40, 30, 260, 220, color=\"blue\", t=3)\n",
    "cv3.text(img, \"Parrot\", 50, 25, color=\"white\", t=2);"
   ]
  },
  {
   "cell_type": "markdown",
   "id": "192bc0d6-9bfc-43e2-91de-fe5b595b5e6f",
   "metadata": {},
   "source": [
    "### Reading/Writing video"
   ]
  },
  {
   "cell_type": "markdown",
   "id": "909cec4a-edf2-4b7d-ae43-1496289d9463",
   "metadata": {},
   "source": [
    "cv2"
   ]
  },
  {
   "cell_type": "code",
   "execution_count": null,
   "id": "ea62994a-7384-4898-9918-f53d9fa6fad4",
   "metadata": {
    "tags": []
   },
   "outputs": [
    {
     "name": "stdout",
     "output_type": "stream",
     "text": [
      "88.4 ms ± 3.33 ms per loop (mean ± std. dev. of 7 runs, 30 loops each)\n"
     ]
    }
   ],
   "source": [
    "%%timeit -n 30\n",
    "\n",
    "import cv2 as cv\n",
    "\n",
    "cap = cv.VideoCapture('data/vid.mp4')\n",
    "fourcc = cv.VideoWriter_fourcc(*'XVID')\n",
    "out = None\n",
    "i = 0\n",
    "while cap.isOpened():\n",
    "    i += 1\n",
    "    if i == 5:\n",
    "        break\n",
    "    ret, frame = cap.read()\n",
    "    if not ret:\n",
    "        print(\"Can't receive frame (stream end?). Exiting ...\")\n",
    "        break\n",
    "    if out is None:\n",
    "        h, w = frame.shape[:2]\n",
    "        out = cv.VideoWriter('output.avi', fourcc, 20.0, (w, h))\n",
    "    frame = cv.flip(frame, 0)\n",
    "    \n",
    "    out.write(frame)\n",
    "    cv.imshow('frame', frame)\n",
    "    if cv.waitKey(1) == ord('q'):\n",
    "        break\n",
    "\n",
    "cap.release()\n",
    "out.release()\n",
    "cv.destroyAllWindows()"
   ]
  },
  {
   "cell_type": "markdown",
   "id": "ac5159bd-dd62-463b-8856-b00bc04baa53",
   "metadata": {
    "tags": []
   },
   "source": [
    "cv3"
   ]
  },
  {
   "cell_type": "code",
   "execution_count": null,
   "id": "69c70773-34d2-42b9-a968-bcc254ccd82b",
   "metadata": {
    "tags": []
   },
   "outputs": [
    {
     "name": "stdout",
     "output_type": "stream",
     "text": [
      "103 ms ± 1.53 ms per loop (mean ± std. dev. of 7 runs, 30 loops each)\n"
     ]
    }
   ],
   "source": [
    "%%timeit -n 30\n",
    "\n",
    "import cv3\n",
    "\n",
    "with (\n",
    "\tcv3.Video('data/vid.mp4') as cap,\n",
    "\tcv3.Video('output.avi', 'w', fps=20, fourcc='XVID') as out,\n",
    "\tcv3.Window('frame') as ww\n",
    "):\n",
    "    for i, frame in enumerate(cap):\n",
    "        if i == 5:\n",
    "            break\n",
    "        frame = cv3.vflip(frame)\n",
    "        out.write(frame)\n",
    "        ww.imshow(frame)\n",
    "\n",
    "        if cv3.wait_key(1) == ord('q'):\n",
    "            break"
   ]
  },
  {
   "cell_type": "markdown",
   "id": "ed684b07-eeb1-4bdb-9ee5-6cdc9930ce6a",
   "metadata": {},
   "source": [
    "## Tasks in practice"
   ]
  },
  {
   "cell_type": "code",
   "execution_count": 2,
   "id": "56c72dc5-a1ee-414a-a1c7-7c7ea758c52f",
   "metadata": {
    "collapsed": true,
    "jupyter": {
     "outputs_hidden": true
    },
    "tags": []
   },
   "outputs": [
    {
     "name": "stdout",
     "output_type": "stream",
     "text": [
      "Collecting gdown\n",
      "  Downloading gdown-4.7.1-py3-none-any.whl (15 kB)\n",
      "Requirement already satisfied: six in c:\\users\\rodion gorodenko\\appdata\\local\\programs\\python\\python39\\lib\\site-packages (from gdown) (1.16.0)\n",
      "Requirement already satisfied: beautifulsoup4 in c:\\users\\rodion gorodenko\\appdata\\local\\programs\\python\\python39\\lib\\site-packages (from gdown) (4.11.2)\n",
      "Requirement already satisfied: filelock in c:\\users\\rodion gorodenko\\appdata\\local\\programs\\python\\python39\\lib\\site-packages (from gdown) (3.12.0)\n",
      "Requirement already satisfied: requests[socks] in c:\\users\\rodion gorodenko\\appdata\\local\\programs\\python\\python39\\lib\\site-packages (from gdown) (2.28.0)\n",
      "Requirement already satisfied: tqdm in c:\\users\\rodion gorodenko\\appdata\\local\\programs\\python\\python39\\lib\\site-packages (from gdown) (4.65.0)\n",
      "Requirement already satisfied: soupsieve>1.2 in c:\\users\\rodion gorodenko\\appdata\\local\\programs\\python\\python39\\lib\\site-packages (from beautifulsoup4->gdown) (2.3.2.post1)\n",
      "Requirement already satisfied: charset-normalizer~=2.0.0 in c:\\users\\rodion gorodenko\\appdata\\local\\programs\\python\\python39\\lib\\site-packages (from requests[socks]->gdown) (2.0.12)\n",
      "Requirement already satisfied: certifi>=2017.4.17 in c:\\users\\rodion gorodenko\\appdata\\local\\programs\\python\\python39\\lib\\site-packages (from requests[socks]->gdown) (2022.12.7)\n",
      "Requirement already satisfied: idna<4,>=2.5 in c:\\users\\rodion gorodenko\\appdata\\local\\programs\\python\\python39\\lib\\site-packages (from requests[socks]->gdown) (3.4)\n",
      "Requirement already satisfied: urllib3<1.27,>=1.21.1 in c:\\users\\rodion gorodenko\\appdata\\local\\programs\\python\\python39\\lib\\site-packages (from requests[socks]->gdown) (1.26.14)\n",
      "Collecting PySocks!=1.5.7,>=1.5.6; extra == \"socks\"\n",
      "  Downloading PySocks-1.7.1-py3-none-any.whl (16 kB)\n",
      "Requirement already satisfied: colorama; platform_system == \"Windows\" in c:\\users\\rodion gorodenko\\appdata\\local\\programs\\python\\python39\\lib\\site-packages (from tqdm->gdown) (0.4.6)\n",
      "Installing collected packages: gdown, PySocks\n",
      "Successfully installed PySocks-1.7.1 gdown-4.7.1\n",
      "Note: you may need to restart the kernel to use updated packages.\n"
     ]
    },
    {
     "name": "stderr",
     "output_type": "stream",
     "text": [
      "WARNING: You are using pip version 20.2.3; however, version 23.1.2 is available.\n",
      "You should consider upgrading via the 'c:\\users\\rodion gorodenko\\appdata\\local\\programs\\python\\python39\\python.exe -m pip install --upgrade pip' command.\n"
     ]
    }
   ],
   "source": [
    "%pip install gdown"
   ]
  },
  {
   "cell_type": "code",
   "execution_count": 1,
   "id": "2136c17c-d63d-44b1-bfe9-dd50c6961954",
   "metadata": {
    "tags": []
   },
   "outputs": [
    {
     "name": "stderr",
     "output_type": "stream",
     "text": [
      "Downloading...\n",
      "From: https://drive.google.com/uc?id=1BieDvsslKpISGdbRbSECNSRfbXLozbe7\n",
      "To: C:\\Users\\Rodion Gorodenko\\pycv\\zidane.jpg\n",
      "100%|███████████████████████████████████████████████████████████████████████████████| 169k/169k [00:00<00:00, 1.52MB/s]\n"
     ]
    },
    {
     "name": "stdout",
     "output_type": "stream",
     "text": [
      "zidane.jpg\n"
     ]
    },
    {
     "name": "stderr",
     "output_type": "stream",
     "text": [
      "Downloading...\n",
      "From: https://drive.google.com/uc?id=15kty1_VBiqC6V27Lwdu654Rd22JJjBFE\n",
      "To: C:\\Users\\Rodion Gorodenko\\pycv\\musk.jpg\n",
      "100%|██████████████████████████████████████████████████████████████████████████████| 49.6k/49.6k [00:00<00:00, 681kB/s]\n"
     ]
    },
    {
     "name": "stdout",
     "output_type": "stream",
     "text": [
      "musk.jpg\n"
     ]
    },
    {
     "name": "stderr",
     "output_type": "stream",
     "text": [
      "Downloading...\n",
      "From: https://drive.google.com/uc?id=1KGE_B37NY7Ag_UpEen-b0SgwRdUgjJHE\n",
      "To: C:\\Users\\Rodion Gorodenko\\pycv\\cat.jpg\n",
      "100%|████████████████████████████████████████████████████████████████████████████████| 119k/119k [00:00<00:00, 849kB/s]\n"
     ]
    },
    {
     "name": "stdout",
     "output_type": "stream",
     "text": [
      "cat.jpg\n"
     ]
    },
    {
     "name": "stderr",
     "output_type": "stream",
     "text": [
      "Downloading...\n",
      "From: https://drive.google.com/uc?id=19SmL6tC8V6dsW7mHdqSi0yo6B1mj7mYy\n",
      "To: C:\\Users\\Rodion Gorodenko\\pycv\\points.npy\n",
      "100%|█████████████████████████████████████████████████████████████████████████████████████████| 592/592 [00:00<?, ?B/s]\n"
     ]
    },
    {
     "name": "stdout",
     "output_type": "stream",
     "text": [
      "points.npy\n"
     ]
    },
    {
     "name": "stderr",
     "output_type": "stream",
     "text": [
      "Downloading...\n",
      "From: https://drive.google.com/uc?id=1bC4XFNCL1jsCLCEge98uPIWXRmU3C1TR\n",
      "To: C:\\Users\\Rodion Gorodenko\\pycv\\fractal.jpg\n",
      "100%|███████████████████████████████████████████████████████████████████████████████| 115k/115k [00:00<00:00, 1.01MB/s]"
     ]
    },
    {
     "name": "stdout",
     "output_type": "stream",
     "text": [
      "fractal.jpg\n"
     ]
    },
    {
     "name": "stderr",
     "output_type": "stream",
     "text": [
      "\n"
     ]
    }
   ],
   "source": [
    "import gdown\n",
    "\n",
    "ids = [\n",
    "    '1BieDvsslKpISGdbRbSECNSRfbXLozbe7', # zidane.jpg\n",
    "    '15kty1_VBiqC6V27Lwdu654Rd22JJjBFE', # musk.jpg\n",
    "    '1KGE_B37NY7Ag_UpEen-b0SgwRdUgjJHE', # cat.jpg\n",
    "    '19SmL6tC8V6dsW7mHdqSi0yo6B1mj7mYy', # points.npy\n",
    "    '1bC4XFNCL1jsCLCEge98uPIWXRmU3C1TR', # fractal.jpg\n",
    "    # '1jzzOI1JLLmqJCOT4tvmWe7Ghk3HRI5-C', # shape_predictor_68_face_landmarks.dat\n",
    "]\n",
    "\n",
    "for id_ in ids:\n",
    "    print(gdown.download(id=id_))"
   ]
  },
  {
   "cell_type": "markdown",
   "id": "d0cca799-00cd-4380-8983-ddf7a4a07bee",
   "metadata": {},
   "source": [
    "### YOLOv5 predictions visualization"
   ]
  },
  {
   "cell_type": "code",
   "execution_count": 2,
   "id": "c24ee67d-6a95-4f4b-a37e-0cd0b1ba4a32",
   "metadata": {
    "tags": []
   },
   "outputs": [
    {
     "name": "stderr",
     "output_type": "stream",
     "text": [
      "Using cache found in C:\\Users\\Rodion Gorodenko/.cache\\torch\\hub\\ultralytics_yolov5_master\n",
      "YOLOv5  2023-5-15 Python-3.9.0 torch-2.0.1+cpu CPU\n",
      "\n",
      "Fusing layers... \n"
     ]
    },
    {
     "name": "stdout",
     "output_type": "stream",
     "text": [
      "\u001b[31m\u001b[1mrequirements:\u001b[0m C:\\Users\\Rodion Gorodenko\\AppData\\Local\\Programs\\Python\\Python39\\Lib\\site-packages\\requirements.txt not found, check failed.\n"
     ]
    },
    {
     "name": "stderr",
     "output_type": "stream",
     "text": [
      "YOLOv5s summary: 213 layers, 7225885 parameters, 0 gradients\n",
      "Adding AutoShape... \n"
     ]
    }
   ],
   "source": [
    "import cv3\n",
    "import torch\n",
    "\n",
    "model = torch.hub.load('ultralytics/yolov5', 'yolov5s', pretrained=True)\n",
    "img = cv3.imread('zidane.jpg')\n",
    "outputs = model([img])\n",
    "results = outputs.pandas().xyxy[0]\n",
    "\n",
    "for xmin, ymin, xmax, ymax, conf, cls_id, cls_name in results.values:\n",
    "    cv3.rectangle(img, xmin, ymin, xmax, ymax, color=cv3.COLORS[cls_id], t=5)\n",
    "    cv3.text(img, f'{cls_name} {conf:.2f}', xmin, ymin+30, color='white', t=2)\n",
    "\n",
    "with cv3.Window() as wind:\n",
    "    wind.imshow(img)\n",
    "    wind.wait_key(0)"
   ]
  },
  {
   "cell_type": "markdown",
   "id": "5a0ea792-f53d-4e13-89de-b64453c84b08",
   "metadata": {},
   "source": [
    "### Move images with processing"
   ]
  },
  {
   "cell_type": "markdown",
   "id": "2270c4b4-740e-4256-b492-1f40224a34fc",
   "metadata": {},
   "source": [
    "Creating folder with test images"
   ]
  },
  {
   "cell_type": "code",
   "execution_count": 3,
   "id": "f99a8629-01c9-4a4a-855d-3af88a856edd",
   "metadata": {
    "tags": []
   },
   "outputs": [],
   "source": [
    "from pathlib import Path\n",
    "import shutil\n",
    "\n",
    "Path('images').mkdir(exist_ok=True, parents=True)\n",
    "for i in range(3):\n",
    "    shutil.copy('data/image.jpg', f'images/img{i}.jpeg')"
   ]
  },
  {
   "cell_type": "markdown",
   "id": "85f7fc88-58ca-4695-bd2c-7d8c71776aef",
   "metadata": {},
   "source": [
    "Run code for moving and processing images"
   ]
  },
  {
   "cell_type": "code",
   "execution_count": 4,
   "id": "af942113-6041-42ed-9e2c-9f53cf240790",
   "metadata": {
    "tags": []
   },
   "outputs": [],
   "source": [
    "import cv3\n",
    "from pathlib import Path\n",
    "\n",
    "SRC_DIR = Path('images')\n",
    "DST_DIR = Path('images256')\n",
    "TARGET_SIZE = (256, 256)\n",
    "\n",
    "for img_path in SRC_DIR.glob('*.jpeg'):\n",
    "    img = cv3.imread(img_path)\n",
    "    resized = cv3.resize(img, *TARGET_SIZE)\n",
    "    dst_path = DST_DIR / img_path.name\n",
    "    cv3.imwrite(dst_path, resized, mkdir=True)"
   ]
  },
  {
   "cell_type": "markdown",
   "id": "34e36799-3392-47bb-86b7-377484c44c90",
   "metadata": {},
   "source": [
    "Clean up directory"
   ]
  },
  {
   "cell_type": "code",
   "execution_count": 5,
   "id": "560ef1cf-dad7-417e-8cc4-d84fa5768ad7",
   "metadata": {
    "tags": []
   },
   "outputs": [],
   "source": [
    "shutil.rmtree('images', ignore_errors=True)\n",
    "shutil.rmtree('images256', ignore_errors=True)"
   ]
  },
  {
   "cell_type": "markdown",
   "id": "242197fd-24ad-431f-ac4a-901ca4def790",
   "metadata": {},
   "source": [
    "### dlib detections visualization"
   ]
  },
  {
   "cell_type": "code",
   "execution_count": 6,
   "id": "935083e2-d451-43a6-a982-3a06f217b0e7",
   "metadata": {
    "tags": []
   },
   "outputs": [],
   "source": [
    "import cv3\n",
    "import dlib\n",
    "\n",
    "detector = dlib.get_frontal_face_detector()\n",
    "predictor = dlib.shape_predictor(\"shape_predictor_68_face_landmarks.dat\")\n",
    "\n",
    "img = cv3.imread('musk.jpg')\n",
    "dets = detector(img)\n",
    "\n",
    "for det in dets:\n",
    "    cv3.rectangle(img, det.left(), det.top(), det.right(), det.bottom(), t=2)\n",
    "    shape = predictor(img, det)\n",
    "    for point in shape.parts():\n",
    "        cv3.point(img, point.x, point.y, color='lime', r=2)\n",
    "\n",
    "with cv3.Window() as wind:\n",
    "    wind.imshow(img)\n",
    "    wind.wait_key(0)"
   ]
  },
  {
   "cell_type": "markdown",
   "id": "efb55fcd-e3d3-4c89-a3c8-5afa4204c588",
   "metadata": {},
   "source": [
    "### Draw annotatation with polygons"
   ]
  },
  {
   "cell_type": "code",
   "execution_count": 7,
   "id": "d7c1cec8-9544-49d5-9422-5d88fc9df333",
   "metadata": {
    "tags": []
   },
   "outputs": [],
   "source": [
    "import numpy as np\n",
    "\n",
    "YELLOW = np.array([255, 255, 0])\n",
    "\n",
    "img_path = 'cat.jpg'\n",
    "label = 'cat'\n",
    "\n",
    "points = np.load('points.npy')"
   ]
  },
  {
   "cell_type": "code",
   "execution_count": 8,
   "id": "953db3d4-69f2-4fee-87aa-121ebf43d5bf",
   "metadata": {
    "tags": []
   },
   "outputs": [],
   "source": [
    "import cv3\n",
    "\n",
    "img = cv3.imread(img_path)\n",
    "\n",
    "# polylines\n",
    "annotated = cv3.polylines(img, points, is_closed=True, t=5, copy=True)\n",
    "\n",
    "# fill polylines\n",
    "mask = cv3.zeros(*img.shape[:2])\n",
    "cv3.fill_poly(mask, points, color=\"red\")\n",
    "annotated[mask > 0] = 0.5 * YELLOW + 0.5 * annotated[mask > 0]\n",
    "\n",
    "with cv3.Window(\"Annotated example\") as wind:\n",
    "    wind.imshow(annotated)\n",
    "    wind.wait_key(0)"
   ]
  },
  {
   "cell_type": "markdown",
   "id": "45158a5e-2903-4f01-a4a4-8113a855c794",
   "metadata": {},
   "source": [
    "### Display video stream in many windows"
   ]
  },
  {
   "cell_type": "code",
   "execution_count": 1,
   "id": "c07022ec-01c0-42ec-ab5b-611af04623a4",
   "metadata": {
    "tags": []
   },
   "outputs": [],
   "source": [
    "import cv3\n",
    "\n",
    "with cv3.Windows(['Original', 'Gray', 'Threshold', 'HSV']) as ws:\n",
    "    for frame in cv3.Video(0):\n",
    "        gray = cv3.rgb2gray(frame)\n",
    "        thr = cv3.threshold(gray)\n",
    "        hsv = cv3.rgb2hsv(frame)\n",
    "\n",
    "        ws['Original'].imshow(frame)\n",
    "        ws['Gray'].imshow(gray)\n",
    "        ws['Threshold'].imshow(thr)\n",
    "        ws['HSV'].imshow(hsv)\n",
    "        if cv3.wait_key(1) == ord('q'):\n",
    "            break"
   ]
  },
  {
   "cell_type": "markdown",
   "id": "79b90e82-6e18-43ec-aeef-778791d6caa7",
   "metadata": {},
   "source": [
    "### Video processing"
   ]
  },
  {
   "cell_type": "code",
   "execution_count": null,
   "id": "53c028ab-c000-4854-995c-fd0ca7be2864",
   "metadata": {
    "tags": []
   },
   "outputs": [],
   "source": [
    "import cv3\n",
    "\n",
    "with cv3.Video('output.mp4', 'w') as out:\n",
    "    with cv3.Video('data/vid.mp4') as cap:\n",
    "        for frame in cap:\n",
    "            gray = cv3.rgb2gray(frame)\n",
    "            out.write(gray)"
   ]
  },
  {
   "cell_type": "markdown",
   "id": "d725973c-a0f4-4a2a-b6f8-88d46e60106f",
   "metadata": {},
   "source": [
    "### Creating animation"
   ]
  },
  {
   "cell_type": "code",
   "execution_count": 11,
   "id": "21ce30e1-e1d3-4d01-8df2-f58c2a955c95",
   "metadata": {
    "tags": []
   },
   "outputs": [],
   "source": [
    "import cv3\n",
    "import numpy as np\n",
    "\n",
    "n_iter = 100\n",
    "img_orig = cv3.imread('fractal.jpg')\n",
    "scales = np.linspace(0.3, 1.7, n_iter)\n",
    "with cv3.Video('fractal.mp4', 'w') as out:\n",
    "    for i in range(n_iter):\n",
    "        img = cv3.transform(img_orig, scale=scales[i], angle=i, border='default')\n",
    "        out.write(img)"
   ]
  }
 ],
 "metadata": {
  "kernelspec": {
   "display_name": "Python 3 (ipykernel)",
   "language": "python",
   "name": "python3"
  },
  "language_info": {
   "codemirror_mode": {
    "name": "ipython",
    "version": 3
   },
   "file_extension": ".py",
   "mimetype": "text/x-python",
   "name": "python",
   "nbconvert_exporter": "python",
   "pygments_lexer": "ipython3",
   "version": "3.9.0"
  }
 },
 "nbformat": 4,
 "nbformat_minor": 5
}
